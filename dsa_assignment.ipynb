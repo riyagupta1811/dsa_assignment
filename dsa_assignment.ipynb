{
 "cells": [
  {
   "cell_type": "code",
   "execution_count": null,
   "id": "f9985f59-4194-4800-8802-1e63e0aea4ec",
   "metadata": {},
   "outputs": [],
   "source": [
    "#question 1"
   ]
  },
  {
   "cell_type": "code",
   "execution_count": 4,
   "id": "7562967b-3847-4131-804f-17eb9d8a2fca",
   "metadata": {},
   "outputs": [
    {
     "name": "stdout",
     "output_type": "stream",
     "text": [
      "Original List:\n",
      "1 -> 2 -> 3 -> 4 -> 5\n",
      "Reversed List:\n",
      "5 -> 4 -> 3 -> 2 -> 1\n"
     ]
    }
   ],
   "source": [
    "class ListNode:\n",
    "    def __init__(self, val=0, next=None):\n",
    "        self.val = val\n",
    "        self.next = next\n",
    "\n",
    "def reverse_list(head):\n",
    "    if not head or not head.next:\n",
    "        return head\n",
    "    new_head = reverse_list(head.next)  \n",
    "    head.next.next = head \n",
    "    head.next = None  \n",
    "    return new_head\n",
    "\n",
    "def build_linked_list(values):\n",
    "    if not values:\n",
    "        return None\n",
    "    head = ListNode(values[0])\n",
    "    current = head\n",
    "    for val in values[1:]:\n",
    "        current.next = ListNode(val)\n",
    "        current = current.next\n",
    "    return head\n",
    "\n",
    "def print_linked_list(head):\n",
    "    result = []\n",
    "    while head:\n",
    "        result.append(head.val)\n",
    "        head = head.next\n",
    "    print(\" -> \".join(map(str, result)))\n",
    "\n",
    "# Example Input\n",
    "head = build_linked_list([1, 2, 3, 4, 5])\n",
    "print(\"Original List:\")\n",
    "print_linked_list(head)\n",
    "\n",
    "reversed_head = reverse_list(head)\n",
    "print(\"Reversed List:\")\n",
    "print_linked_list(reversed_head)\n"
   ]
  },
  {
   "cell_type": "code",
   "execution_count": null,
   "id": "f4367261-d676-4a34-9979-8cd6c7477f8a",
   "metadata": {},
   "outputs": [],
   "source": [
    "#question 2"
   ]
  },
  {
   "cell_type": "code",
   "execution_count": 7,
   "id": "cc642aa1-d7a9-4825-8487-7ec5abf2edf7",
   "metadata": {},
   "outputs": [
    {
     "name": "stdout",
     "output_type": "stream",
     "text": [
      "Merged List:\n",
      "1 -> 2 -> 3 -> 4 -> 5 -> 6\n"
     ]
    }
   ],
   "source": [
    "class ListNode:\n",
    "    def __init__(self, val=0, next=None):\n",
    "        self.val = val\n",
    "        self.next = next\n",
    "\n",
    "def merge_sorted_lists(l1, l2):\n",
    "    if not l1:\n",
    "        return l2\n",
    "    if not l2:\n",
    "        return l1\n",
    "    if l1.val < l2.val:\n",
    "        l1.next = merge_sorted_lists(l1.next, l2)\n",
    "        return l1\n",
    "    else:\n",
    "        l2.next = merge_sorted_lists(l1, l2.next)\n",
    "        return l2\n",
    "\n",
    "def build_linked_list(values):\n",
    "    if not values:\n",
    "        return None\n",
    "    head = ListNode(values[0])\n",
    "    current = head\n",
    "    for val in values[1:]:\n",
    "        current.next = ListNode(val)\n",
    "        current = current.next\n",
    "    return head\n",
    "\n",
    "def print_linked_list(head):\n",
    "    result = []\n",
    "    while head:\n",
    "        result.append(head.val)\n",
    "        head = head.next\n",
    "    print(\" -> \".join(map(str, result)))\n",
    "\n",
    "# Example Input\n",
    "list1 = build_linked_list([1, 3, 5])\n",
    "list2 = build_linked_list([2, 4, 6])\n",
    "\n",
    "\n",
    "merged_head = merge_sorted_lists(list1, list2)\n",
    "print(\"Merged List:\")\n",
    "print_linked_list(merged_head)\n"
   ]
  },
  {
   "cell_type": "code",
   "execution_count": null,
   "id": "9e974a23-34c1-42f1-b853-489925aa0897",
   "metadata": {},
   "outputs": [],
   "source": [
    "#question 3"
   ]
  },
  {
   "cell_type": "code",
   "execution_count": 8,
   "id": "6624a2a5-785d-4d57-8041-6c8be8e11b4f",
   "metadata": {},
   "outputs": [
    {
     "name": "stdout",
     "output_type": "stream",
     "text": [
      "Updated List:\n",
      "1 -> 2 -> 3 -> 5\n"
     ]
    }
   ],
   "source": [
    "class ListNode:\n",
    "    def __init__(self, val=0, next=None):\n",
    "        self.val = val\n",
    "        self.next = next\n",
    "\n",
    "def remove_nth_from_end(head, n):\n",
    "    def get_length(node):\n",
    "        if not node:\n",
    "            return 0\n",
    "        return 1 + get_length(node.next)\n",
    "\n",
    "    def remove_node(node, index):\n",
    "        if index == 1:\n",
    "            return node.next\n",
    "        node.next = remove_node(node.next, index - 1)\n",
    "        return node\n",
    "\n",
    "    length = get_length(head)\n",
    "    return remove_node(head, length - n + 1)\n",
    "\n",
    "def build_linked_list(values):\n",
    "    if not values:\n",
    "        return None\n",
    "    head = ListNode(values[0])\n",
    "    current = head\n",
    "    for val in values[1:]:\n",
    "        current.next = ListNode(val)\n",
    "        current = current.next\n",
    "    return head\n",
    "\n",
    "def print_linked_list(head):\n",
    "    result = []\n",
    "    while head:\n",
    "        result.append(head.val)\n",
    "        head = head.next\n",
    "    print(\" -> \".join(map(str, result)))\n",
    "\n",
    "# Example\n",
    "head = build_linked_list([1, 2, 3, 4, 5])\n",
    "n = 2\n",
    "\n",
    "updated_head = remove_nth_from_end(head, n)\n",
    "print(\"Updated List:\")\n",
    "print_linked_list(updated_head)\n"
   ]
  },
  {
   "cell_type": "code",
   "execution_count": null,
   "id": "33ba1687-0c01-4d2f-b9c5-a1b620b8bf9f",
   "metadata": {},
   "outputs": [],
   "source": [
    "#question 4"
   ]
  },
  {
   "cell_type": "code",
   "execution_count": 11,
   "id": "518cc6e3-8965-4904-8aae-eadec60bafb0",
   "metadata": {},
   "outputs": [
    {
     "name": "stdout",
     "output_type": "stream",
     "text": [
      "List 1:\n",
      "1 -> 2 -> 3 -> 4\n",
      "List 2:\n",
      "9 -> 8 -> 3 -> 4\n",
      "Intersection at node with value: 3\n"
     ]
    }
   ],
   "source": [
    "class ListNode:\n",
    "    def __init__(self, val=0, next=None):\n",
    "        self.val = val\n",
    "        self.next = next\n",
    "\n",
    "def get_intersection_node(headA, headB):\n",
    "    def get_length(node):\n",
    "        if not node:\n",
    "            return 0\n",
    "        return 1 + get_length(node.next)\n",
    "\n",
    "    def advance_list(node, steps):\n",
    "        if steps == 0:\n",
    "            return node\n",
    "        return advance_list(node.next, steps - 1)\n",
    "\n",
    "    lenA = get_length(headA)\n",
    "    lenB = get_length(headB)\n",
    "\n",
    "    # Align both lists to the same starting point\n",
    "    if lenA > lenB:\n",
    "        headA = advance_list(headA, lenA - lenB)\n",
    "    else:\n",
    "        headB = advance_list(headB, lenB - lenA)\n",
    "\n",
    "    # Find the intersection\n",
    "    while headA and headB:\n",
    "        if headA == headB:\n",
    "            return headA\n",
    "        headA = headA.next\n",
    "        headB = headB.next\n",
    "\n",
    "    return None\n",
    "\n",
    "def build_intersecting_lists(list1, list2, intersection_vals):\n",
    "    # Create the intersection part\n",
    "    intersection_head = None\n",
    "    if intersection_vals:\n",
    "        intersection_head = ListNode(intersection_vals[0])\n",
    "        current = intersection_head\n",
    "        for val in intersection_vals[1:]:\n",
    "            current.next = ListNode(val)\n",
    "            current = current.next\n",
    "\n",
    "    # Create list1 and attach the intersection\n",
    "    head1 = ListNode(list1[0])\n",
    "    current = head1\n",
    "    for val in list1[1:]:\n",
    "        current.next = ListNode(val)\n",
    "        current = current.next\n",
    "    current.next = intersection_head\n",
    "\n",
    "    # Create list2 and attach the intersection\n",
    "    head2 = ListNode(list2[0])\n",
    "    current = head2\n",
    "    for val in list2[1:]:\n",
    "        current.next = ListNode(val)\n",
    "        current = current.next\n",
    "    current.next = intersection_head\n",
    "\n",
    "    return head1, head2, intersection_head\n",
    "\n",
    "def print_linked_list(head):\n",
    "    result = []\n",
    "    while head:\n",
    "        result.append(head.val)\n",
    "        head = head.next\n",
    "    print(\" -> \".join(map(str, result)))\n",
    "\n",
    "# Example\n",
    "list1 = [1, 2]\n",
    "list2 = [9, 8]\n",
    "intersection = [3, 4]\n",
    "\n",
    "head1, head2, intersection_head = build_intersecting_lists(list1, list2, intersection)\n",
    "\n",
    "print(\"List 1:\")\n",
    "print_linked_list(head1)\n",
    "\n",
    "print(\"List 2:\")\n",
    "print_linked_list(head2)\n",
    "\n",
    "# Find the intersection point\n",
    "intersection_node = get_intersection_node(head1, head2)\n",
    "if intersection_node:\n",
    "    print(f\"Intersection at node with value: {intersection_node.val}\")\n",
    "else:\n",
    "    print(\"No intersection found.\")\n"
   ]
  },
  {
   "cell_type": "code",
   "execution_count": null,
   "id": "196b5a04-b213-4f77-9b72-2ecce378267b",
   "metadata": {},
   "outputs": [],
   "source": [
    "#question 5"
   ]
  },
  {
   "cell_type": "code",
   "execution_count": 12,
   "id": "b1a78b6b-8491-49a4-933a-6fe60a4de4f2",
   "metadata": {},
   "outputs": [
    {
     "name": "stdout",
     "output_type": "stream",
     "text": [
      "List After Removing Duplicates:\n",
      "1 -> 2 -> 3\n"
     ]
    }
   ],
   "source": [
    "class ListNode:\n",
    "    def __init__(self, val=0, next=None):\n",
    "        self.val = val\n",
    "        self.next = next\n",
    "\n",
    "def remove_duplicates(head):\n",
    "    # Base case\n",
    "    if not head or not head.next:\n",
    "        return head\n",
    "\n",
    "    # If the current node is a duplicate, skip it\n",
    "    if head.val == head.next.val:\n",
    "        head.next = head.next.next\n",
    "        return remove_duplicates(head) \n",
    "    else:\n",
    "        head.next = remove_duplicates(head.next) \n",
    "\n",
    "    return head\n",
    "\n",
    "def build_linked_list(values):\n",
    "    if not values:\n",
    "        return None\n",
    "    head = ListNode(values[0])\n",
    "    current = head\n",
    "    for val in values[1:]:\n",
    "        current.next = ListNode(val)\n",
    "        current = current.next\n",
    "    return head\n",
    "\n",
    "def print_linked_list(head):\n",
    "    result = []\n",
    "    while head:\n",
    "        result.append(head.val)\n",
    "        head = head.next\n",
    "    print(\" -> \".join(map(str, result)))\n",
    "\n",
    "# Example\n",
    "head = build_linked_list([1, 2, 3, 3])\n",
    "\n",
    "updated_head = remove_duplicates(head)\n",
    "\n",
    "print(\"List After Removing Duplicates:\")\n",
    "print_linked_list(updated_head)\n"
   ]
  },
  {
   "cell_type": "code",
   "execution_count": null,
   "id": "3c1289e8-2a2f-4845-b622-aaa9257d5c5d",
   "metadata": {},
   "outputs": [],
   "source": [
    "#question 6"
   ]
  },
  {
   "cell_type": "code",
   "execution_count": 13,
   "id": "449f6861-ddc8-4b1a-9b5e-33c56615252a",
   "metadata": {},
   "outputs": [
    {
     "name": "stdout",
     "output_type": "stream",
     "text": [
      "List 1:\n",
      "2 -> 4 -> 3\n",
      "List 2:\n",
      "5 -> 6 -> 4\n",
      "Sum:\n",
      "7 -> 0 -> 8\n"
     ]
    }
   ],
   "source": [
    "class ListNode:\n",
    "    def __init__(self, val=0, next=None):\n",
    "        self.val = val\n",
    "        self.next = next\n",
    "\n",
    "def add_two_numbers_recursive(l1, l2, carry=0):\n",
    "    # Base case\n",
    "    if not l1 and not l2 and carry == 0:\n",
    "        return None\n",
    "\n",
    "    # Get the values from the current nodes, or 0 if the node doesn't exist\n",
    "    val1 = l1.val if l1 else 0\n",
    "    val2 = l2.val if l2 else 0\n",
    "\n",
    "    # Calculate the sum and the new carry\n",
    "    total = val1 + val2 + carry\n",
    "    carry = total // 10\n",
    "    node_value = total % 10\n",
    "\n",
    "    # Create a new node with the current sum value\n",
    "    new_node = ListNode(node_value)\n",
    "\n",
    "    # Recurse to the next digits\n",
    "    new_node.next = add_two_numbers_recursive(\n",
    "        l1.next if l1 else None,\n",
    "        l2.next if l2 else None,\n",
    "        carry\n",
    "    )\n",
    "\n",
    "    return new_node\n",
    "\n",
    "def build_linked_list(values):\n",
    "    if not values:\n",
    "        return None\n",
    "    head = ListNode(values[0])\n",
    "    current = head\n",
    "    for val in values[1:]:\n",
    "        current.next = ListNode(val)\n",
    "        current = current.next\n",
    "    return head\n",
    "\n",
    "def print_linked_list(head):\n",
    "    result = []\n",
    "    while head:\n",
    "        result.append(head.val)\n",
    "        head = head.next\n",
    "    print(\" -> \".join(map(str, result)))\n",
    "\n",
    "# Example\n",
    "list1 = build_linked_list([2, 4, 3])  # Represents 342\n",
    "list2 = build_linked_list([5, 6, 4])  # Represents 465\n",
    "\n",
    "print(\"List 1:\")\n",
    "print_linked_list(list1)\n",
    "\n",
    "print(\"List 2:\")\n",
    "print_linked_list(list2)\n",
    "\n",
    "# Add two numbers\n",
    "result = add_two_numbers_recursive(list1, list2)\n",
    "\n",
    "print(\"Sum:\")\n",
    "print_linked_list(result)\n"
   ]
  },
  {
   "cell_type": "code",
   "execution_count": null,
   "id": "5fc7e42a-7f3e-4d88-a75d-00a0dee03f5d",
   "metadata": {},
   "outputs": [],
   "source": [
    "#question 7"
   ]
  },
  {
   "cell_type": "code",
   "execution_count": 14,
   "id": "605af563-9df9-4efb-8f31-91161332a428",
   "metadata": {},
   "outputs": [
    {
     "name": "stdout",
     "output_type": "stream",
     "text": [
      "Original List:\n",
      "1 -> 2 -> 3 -> 4\n",
      "List After Swapping Nodes in Pairs:\n",
      "2 -> 1 -> 4 -> 3\n"
     ]
    }
   ],
   "source": [
    "class ListNode:\n",
    "    def __init__(self, val=0, next=None):\n",
    "        self.val = val\n",
    "        self.next = next\n",
    "\n",
    "def swap_pairs(head):\n",
    "    # Base case:\n",
    "    if not head or not head.next:\n",
    "        return head\n",
    "\n",
    "    # Recursive case\n",
    "    first_node = head\n",
    "    second_node = head.next\n",
    "    \n",
    "    # Swapping the nodes\n",
    "    first_node.next = swap_pairs(second_node.next)\n",
    "    second_node.next = first_node\n",
    "\n",
    "    # The second node will now be the head of the swapped pair\n",
    "    return second_node\n",
    "\n",
    "def build_linked_list(values):\n",
    "    if not values:\n",
    "        return None\n",
    "    head = ListNode(values[0])\n",
    "    current = head\n",
    "    for val in values[1:]:\n",
    "        current.next = ListNode(val)\n",
    "        current = current.next\n",
    "    return head\n",
    "\n",
    "def print_linked_list(head):\n",
    "    result = []\n",
    "    while head:\n",
    "        result.append(head.val)\n",
    "        head = head.next\n",
    "    print(\" -> \".join(map(str, result)))\n",
    "\n",
    "# Example\n",
    "head = build_linked_list([1, 2, 3, 4])\n",
    "\n",
    "print(\"Original List:\")\n",
    "print_linked_list(head)\n",
    "\n",
    "# Swap nodes in pairs\n",
    "swapped_head = swap_pairs(head)\n",
    "\n",
    "print(\"List After Swapping Nodes in Pairs:\")\n",
    "print_linked_list(swapped_head)\n"
   ]
  },
  {
   "cell_type": "code",
   "execution_count": null,
   "id": "45d3e572-2404-48ad-bf04-bef20a85920e",
   "metadata": {},
   "outputs": [],
   "source": [
    "#question 8"
   ]
  },
  {
   "cell_type": "code",
   "execution_count": 15,
   "id": "675b76e7-6aaf-4e8d-a97b-50e02f4b829f",
   "metadata": {},
   "outputs": [
    {
     "name": "stdout",
     "output_type": "stream",
     "text": [
      "Original List:\n",
      "1 -> 2 -> 3 -> 4 -> 5\n",
      "List After Reversing Nodes in Groups of k:\n",
      "3 -> 2 -> 1 -> 4 -> 5\n"
     ]
    }
   ],
   "source": [
    "class ListNode:\n",
    "    def __init__(self, val=0, next=None):\n",
    "        self.val = val\n",
    "        self.next = next\n",
    "\n",
    "def reverse_k_group(head, k):\n",
    "    # Base case: \n",
    "    current = head\n",
    "    count = 0\n",
    "    while current and count < k:\n",
    "        current = current.next\n",
    "        count += 1\n",
    "\n",
    "    if count < k:\n",
    "        return head\n",
    "\n",
    "    # Reverse the first k nodes\n",
    "    prev = None\n",
    "    curr = head\n",
    "    for _ in range(k):\n",
    "        next_node = curr.next\n",
    "        curr.next = prev\n",
    "        prev = curr\n",
    "        curr = next_node\n",
    "\n",
    "    if curr:\n",
    "        head.next = reverse_k_group(curr, k)\n",
    "\n",
    "    return prev\n",
    "\n",
    "def build_linked_list(values):\n",
    "    if not values:\n",
    "        return None\n",
    "    head = ListNode(values[0])\n",
    "    current = head\n",
    "    for val in values[1:]:\n",
    "        current.next = ListNode(val)\n",
    "        current = current.next\n",
    "    return head\n",
    "\n",
    "def print_linked_list(head):\n",
    "    result = []\n",
    "    while head:\n",
    "        result.append(head.val)\n",
    "        head = head.next\n",
    "    print(\" -> \".join(map(str, result)))\n",
    "\n",
    "# Example\n",
    "head = build_linked_list([1, 2, 3, 4, 5])\n",
    "k = 3\n",
    "\n",
    "print(\"Original List:\")\n",
    "print_linked_list(head)\n",
    "\n",
    "# Reverse nodes in groups of k\n",
    "reversed_head = reverse_k_group(head, k)\n",
    "\n",
    "print(\"List After Reversing Nodes in Groups of k:\")\n",
    "print_linked_list(reversed_head)\n"
   ]
  },
  {
   "cell_type": "code",
   "execution_count": null,
   "id": "546ecd5b-0b87-4b37-960c-4e94067a0c05",
   "metadata": {},
   "outputs": [],
   "source": [
    "#question 9"
   ]
  },
  {
   "cell_type": "code",
   "execution_count": 16,
   "id": "6c64245c-09f4-4a60-a7ca-a79ae56742ae",
   "metadata": {},
   "outputs": [
    {
     "name": "stdout",
     "output_type": "stream",
     "text": [
      "Original List:\n",
      "1 -> 2 -> 2 -> 1\n",
      "True\n"
     ]
    }
   ],
   "source": [
    "class ListNode:\n",
    "    def __init__(self, val=0, next=None):\n",
    "        self.val = val\n",
    "        self.next = next\n",
    "\n",
    "def is_palindrome(head):\n",
    "    def recurse(node):\n",
    "        nonlocal left\n",
    "        if not node:\n",
    "            return True\n",
    "        # Recurse on the next node\n",
    "        result = recurse(node.next)\n",
    "        \n",
    "        # Check if the current node matches the left node\n",
    "        if not result or node.val != left.val:\n",
    "            return False\n",
    "        # Move the left pointer ahead\n",
    "        left = left.next\n",
    "        return True\n",
    "\n",
    "    left = head\n",
    "    return recurse(head)\n",
    "\n",
    "def build_linked_list(values):\n",
    "    if not values:\n",
    "        return None\n",
    "    head = ListNode(values[0])\n",
    "    current = head\n",
    "    for val in values[1:]:\n",
    "        current.next = ListNode(val)\n",
    "        current = current.next\n",
    "    return head\n",
    "\n",
    "def print_linked_list(head):\n",
    "    result = []\n",
    "    while head:\n",
    "        result.append(head.val)\n",
    "        head = head.next\n",
    "    print(\" -> \".join(map(str, result)))\n",
    "\n",
    "# Example\n",
    "head = build_linked_list([1, 2, 2, 1])\n",
    "\n",
    "print(\"Original List:\")\n",
    "print_linked_list(head)\n",
    "\n",
    "# Check\n",
    "if is_palindrome(head):\n",
    "    print(\"True\")\n",
    "else:\n",
    "    print(\"False\")\n"
   ]
  },
  {
   "cell_type": "code",
   "execution_count": null,
   "id": "668a0057-2293-4489-b888-7300e86213fa",
   "metadata": {},
   "outputs": [],
   "source": [
    "#question 10"
   ]
  },
  {
   "cell_type": "code",
   "execution_count": 17,
   "id": "7fb02428-3224-4665-894e-33f85d95373c",
   "metadata": {},
   "outputs": [
    {
     "name": "stdout",
     "output_type": "stream",
     "text": [
      "Original List:\n",
      "1 -> 2 -> 3 -> 4 -> 5\n",
      "List After Rotating Right by 2 places:\n",
      "4 -> 5 -> 1 -> 2 -> 3\n"
     ]
    }
   ],
   "source": [
    "class ListNode:\n",
    "    def __init__(self, val=0, next=None):\n",
    "        self.val = val\n",
    "        self.next = next\n",
    "\n",
    "def rotate_right(head, k):\n",
    "    if not head or k == 0:\n",
    "        return head\n",
    "\n",
    "    # get the length of the linked list\n",
    "    length = 1\n",
    "    current = head\n",
    "    while current.next:\n",
    "        current = current.next\n",
    "        length += 1\n",
    "    \n",
    "    # If k is greater than the length of the list, reduce k\n",
    "    k = k % length\n",
    "    if k == 0:\n",
    "        return head\n",
    "\n",
    "    # Find the new tail, which will be at position length - k - 1\n",
    "    current = head\n",
    "    for _ in range(length - k - 1):\n",
    "        current = current.next\n",
    "\n",
    "    # current will now be the new tail\n",
    "    new_head = current.next\n",
    "    current.next = None\n",
    "\n",
    "    # Find the old tail and connect it to the head\n",
    "    old_tail = new_head\n",
    "    while old_tail.next:\n",
    "        old_tail = old_tail.next\n",
    "    old_tail.next = head\n",
    "\n",
    "    return new_head\n",
    "\n",
    "def build_linked_list(values):\n",
    "    if not values:\n",
    "        return None\n",
    "    head = ListNode(values[0])\n",
    "    current = head\n",
    "    for val in values[1:]:\n",
    "        current.next = ListNode(val)\n",
    "        current = current.next\n",
    "    return head\n",
    "\n",
    "def print_linked_list(head):\n",
    "    result = []\n",
    "    while head:\n",
    "        result.append(head.val)\n",
    "        head = head.next\n",
    "    print(\" -> \".join(map(str, result)))\n",
    "\n",
    "# Example\n",
    "head = build_linked_list([1, 2, 3, 4, 5])\n",
    "k = 2\n",
    "\n",
    "print(\"Original List:\")\n",
    "print_linked_list(head)\n",
    "\n",
    "# Rotate the list to the right by k positions\n",
    "rotated_head = rotate_right(head, k)\n",
    "\n",
    "print(\"List After Rotating Right by\", k, \"places:\")\n",
    "print_linked_list(rotated_head)\n"
   ]
  },
  {
   "cell_type": "code",
   "execution_count": null,
   "id": "cdfaeeb4-6bca-4ff8-b036-48412fd080d7",
   "metadata": {},
   "outputs": [],
   "source": [
    "#question 12"
   ]
  },
  {
   "cell_type": "code",
   "execution_count": 22,
   "id": "d409e3c9-b5fd-4143-9441-eca0a6d2c04a",
   "metadata": {},
   "outputs": [
    {
     "name": "stdout",
     "output_type": "stream",
     "text": [
      "Original Linked List:\n",
      "1 -> 2 -> 3 -> 4 -> 5\n",
      "Rearranged Linked List:\n",
      "1 -> 3 -> 5 -> 2 -> 4\n"
     ]
    }
   ],
   "source": [
    "class Node:\n",
    "    def __init__(self, val=0, next=None):\n",
    "        self.val = val\n",
    "        self.next = next\n",
    "\n",
    "def rearrange_even_positions(head):\n",
    "    # Base case: If the list is empty or has only one element\n",
    "    if not head or not head.next:\n",
    "        return head\n",
    "\n",
    "    # Initialize pointers for the odd and even lists\n",
    "    odd_head = odd_tail = head  # Start with the first node (odd-positioned)\n",
    "    even_head = even_tail = head.next  # Start with the second node (even-positioned)\n",
    "\n",
    "    current = even_tail.next  # Start from the third node\n",
    "    position = 3  # Position counter, starting from the third node\n",
    "\n",
    "    # Traverse the list and separate odd and even positioned nodes\n",
    "    while current:\n",
    "        if position % 2 != 0:  # Odd position\n",
    "            odd_tail.next = current\n",
    "            odd_tail = odd_tail.next\n",
    "        else:  # Even position\n",
    "            even_tail.next = current\n",
    "            even_tail = even_tail.next\n",
    "        \n",
    "        current = current.next\n",
    "        position += 1\n",
    "    \n",
    "    # End the odd list and make the even list last\n",
    "    odd_tail.next = even_head\n",
    "    even_tail.next = None  # The last even node should point to None\n",
    "    \n",
    "    return odd_head\n",
    "\n",
    "# Helper function to create a linked list from a list of values\n",
    "def build_linked_list(values):\n",
    "    if not values:\n",
    "        return None\n",
    "    head = Node(values[0])\n",
    "    current = head\n",
    "    for val in values[1:]:\n",
    "        current.next = Node(val)\n",
    "        current = current.next\n",
    "    return head\n",
    "\n",
    "# Helper function to print the linked list\n",
    "def print_linked_list(head):\n",
    "    result = []\n",
    "    while head:\n",
    "        result.append(str(head.val))\n",
    "        head = head.next\n",
    "    print(\" -> \".join(result))\n",
    "\n",
    "# Example Input: [1, 2, 3, 4, 5]\n",
    "input_list = [1, 2, 3, 4, 5]\n",
    "head = build_linked_list(input_list)\n",
    "\n",
    "print(\"Original Linked List:\")\n",
    "print_linked_list(head)\n",
    "\n",
    "# Rearrange the list such that even-positioned nodes are at the end\n",
    "rearranged_head = rearrange_even_positions(head)\n",
    "\n",
    "print(\"Rearranged Linked List:\")\n",
    "print_linked_list(rearranged_head)\n"
   ]
  },
  {
   "cell_type": "code",
   "execution_count": null,
   "id": "6db4d01e-b684-4570-85ca-c6f89971ecdf",
   "metadata": {},
   "outputs": [],
   "source": [
    "#question 13"
   ]
  },
  {
   "cell_type": "code",
   "execution_count": 23,
   "id": "56d451b4-1370-45a0-984c-92fe3077d697",
   "metadata": {},
   "outputs": [
    {
     "name": "stdout",
     "output_type": "stream",
     "text": [
      "Original Linked List:\n",
      "1 -> 2 -> 3\n",
      "Updated Linked List (after adding 1):\n",
      "1 -> 2 -> 4\n"
     ]
    }
   ],
   "source": [
    "class Node:\n",
    "    def __init__(self, val=0, next=None):\n",
    "        self.val = val\n",
    "        self.next = next\n",
    "\n",
    "def add_one(head):\n",
    "    # Helper function to reverse the linked list\n",
    "    def reverse_list(head):\n",
    "        prev = None\n",
    "        current = head\n",
    "        while current:\n",
    "            next_node = current.next\n",
    "            current.next = prev\n",
    "            prev = current\n",
    "            current = next_node\n",
    "        return prev\n",
    "\n",
    "    # Reverse the list to simplify addition\n",
    "    head = reverse_list(head)\n",
    "\n",
    "    # Start adding 1 from the head of the reversed list\n",
    "    current = head\n",
    "    carry = 1  # We are adding 1, so the initial carry is 1\n",
    "\n",
    "    while current:\n",
    "        new_val = current.val + carry\n",
    "        current.val = new_val % 10  # Update the current node with the new value (mod 10)\n",
    "        carry = new_val // 10  # Update the carry (either 0 or 1)\n",
    "\n",
    "        if not carry:\n",
    "            break  # No carry, so we can stop\n",
    "\n",
    "        # Move to the next node if carry still exists\n",
    "        if not current.next and carry:\n",
    "            current.next = Node(0)  # Add a new node if we reach the end of the list\n",
    "        current = current.next\n",
    "\n",
    "    # Reverse the list back to its original order\n",
    "    head = reverse_list(head)\n",
    "    return head\n",
    "\n",
    "# Helper function to create a linked list from a list of values\n",
    "def build_linked_list(values):\n",
    "    if not values:\n",
    "        return None\n",
    "    head = Node(values[0])\n",
    "    current = head\n",
    "    for val in values[1:]:\n",
    "        current.next = Node(val)\n",
    "        current = current.next\n",
    "    return head\n",
    "\n",
    "# Helper function to print the linked list\n",
    "def print_linked_list(head):\n",
    "    result = []\n",
    "    while head:\n",
    "        result.append(str(head.val))\n",
    "        head = head.next\n",
    "    print(\" -> \".join(result))\n",
    "\n",
    "# Example \n",
    "input_list = [1, 2, 3]\n",
    "head = build_linked_list(input_list)\n",
    "\n",
    "print(\"Original Linked List:\")\n",
    "print_linked_list(head)\n",
    "\n",
    "# Add 1 to the linked list\n",
    "updated_head = add_one(head)\n",
    "\n",
    "print(\"Updated Linked List (after adding 1):\")\n",
    "print_linked_list(updated_head)\n"
   ]
  },
  {
   "cell_type": "code",
   "execution_count": null,
   "id": "3e589333-6dfd-4010-8f3f-2e2dc385bdc4",
   "metadata": {},
   "outputs": [],
   "source": [
    "#question 14"
   ]
  },
  {
   "cell_type": "code",
   "execution_count": 25,
   "id": "2e1ac69b-2f1e-4261-9db9-99a9ad478bc6",
   "metadata": {},
   "outputs": [
    {
     "name": "stdout",
     "output_type": "stream",
     "text": [
      "Insert position or index of target 5: 2\n"
     ]
    }
   ],
   "source": [
    "def search_insert_position(nums, target):\n",
    "    left, right = 0, len(nums) - 1\n",
    "\n",
    "    while left <= right:\n",
    "        mid = (left + right) // 2\n",
    "        if nums[mid] == target:\n",
    "            return mid  # Target found, return the index\n",
    "        elif nums[mid] < target:\n",
    "            left = mid + 1  # Target is on the right side\n",
    "        else:\n",
    "            right = mid - 1  # Target is on the left side\n",
    "    \n",
    "    # Target not found, return the insert position (left pointer)\n",
    "    return left\n",
    "\n",
    "# Example\n",
    "nums = [1, 3, 5, 6]\n",
    "target = 5\n",
    "\n",
    "# Function call\n",
    "result = search_insert_position(nums, target)\n",
    "\n",
    "print(f\"Insert position or index of target {target}: {result}\")\n"
   ]
  },
  {
   "cell_type": "code",
   "execution_count": null,
   "id": "0073376e-85e4-411a-af46-7dc9856a5e07",
   "metadata": {},
   "outputs": [],
   "source": [
    "#question 15"
   ]
  },
  {
   "cell_type": "code",
   "execution_count": 26,
   "id": "11170e9f-e812-4d22-b0b3-09449892c517",
   "metadata": {},
   "outputs": [
    {
     "name": "stdout",
     "output_type": "stream",
     "text": [
      "The minimum element is: 0\n"
     ]
    }
   ],
   "source": [
    "def find_min(nums):\n",
    "    left, right = 0, len(nums) - 1\n",
    "\n",
    "    while left < right:\n",
    "        mid = (left + right) // 2\n",
    "        if nums[mid] > nums[right]:\n",
    "            left = mid + 1  # Minimum is in the right half\n",
    "        else:\n",
    "            right = mid  # Minimum is in the left half or at mid\n",
    "\n",
    "    # The left pointer will be at the minimum element\n",
    "    return nums[left]\n",
    "\n",
    "# Example\n",
    "nums = [4, 5, 6, 7, 0, 1, 2]\n",
    "\n",
    "# Function call\n",
    "result = find_min(nums)\n",
    "\n",
    "print(f\"The minimum element is: {result}\")\n"
   ]
  },
  {
   "cell_type": "code",
   "execution_count": null,
   "id": "b1d31f5f-e561-4174-8677-6e0680648fdd",
   "metadata": {},
   "outputs": [],
   "source": [
    "#question 16"
   ]
  },
  {
   "cell_type": "code",
   "execution_count": 27,
   "id": "6138811c-6e69-4232-ac85-f2b258b8101e",
   "metadata": {},
   "outputs": [
    {
     "name": "stdout",
     "output_type": "stream",
     "text": [
      "The target 0 is at index: 4\n"
     ]
    }
   ],
   "source": [
    "def search(nums, target):\n",
    "    left, right = 0, len(nums) - 1\n",
    "\n",
    "    while left <= right:\n",
    "        mid = (left + right) // 2\n",
    "\n",
    "        # Check if we found the target\n",
    "        if nums[mid] == target:\n",
    "            return mid\n",
    "\n",
    "        # Determine which half is sorted\n",
    "        if nums[left] <= nums[mid]:  # Left half is sorted\n",
    "            if nums[left] <= target < nums[mid]:  # Target is in the left half\n",
    "                right = mid - 1\n",
    "            else:  # Target is in the right half\n",
    "                left = mid + 1\n",
    "        else:  # Right half is sorted\n",
    "            if nums[mid] < target <= nums[right]:  # Target is in the right half\n",
    "                left = mid + 1\n",
    "            else:  # Target is in the left half\n",
    "                right = mid - 1\n",
    "\n",
    "    # Target not found\n",
    "    return -1\n",
    "\n",
    "# Example\n",
    "nums = [4, 5, 6, 7, 0, 1, 2]\n",
    "target = 0\n",
    "\n",
    "# Function call\n",
    "result = search(nums, target)\n",
    "\n",
    "print(f\"The target {target} is at index: {result}\")\n"
   ]
  },
  {
   "cell_type": "code",
   "execution_count": null,
   "id": "3d82734f-a5dd-4106-b10d-f0ffd536d78a",
   "metadata": {},
   "outputs": [],
   "source": [
    "#question 17"
   ]
  },
  {
   "cell_type": "code",
   "execution_count": 28,
   "id": "78f9dec0-cba1-4b0e-be38-f5307ff52014",
   "metadata": {},
   "outputs": [
    {
     "name": "stdout",
     "output_type": "stream",
     "text": [
      "A peak element is: 3\n"
     ]
    }
   ],
   "source": [
    "def find_peak(nums):\n",
    "    left, right = 0, len(nums) - 1\n",
    "    \n",
    "    while left <= right:\n",
    "        mid = (left + right) // 2\n",
    "        \n",
    "        # Check if mid is a peak element\n",
    "        if (mid == 0 or nums[mid] >= nums[mid - 1]) and (mid == len(nums) - 1 or nums[mid] >= nums[mid + 1]):\n",
    "            return nums[mid]\n",
    "        \n",
    "        # If the right neighbor is greater, search in the right half\n",
    "        elif mid < len(nums) - 1 and nums[mid] < nums[mid + 1]:\n",
    "            left = mid + 1\n",
    "        \n",
    "        # If the left neighbor is greater, search in the left half\n",
    "        else:\n",
    "            right = mid - 1\n",
    "    \n",
    "    return -1  # This line should never be reached for a valid input\n",
    "\n",
    "# Example\n",
    "nums = [1, 2, 3, 1]\n",
    "\n",
    "# Function call\n",
    "result = find_peak(nums)\n",
    "\n",
    "print(f\"A peak element is: {result}\")\n"
   ]
  },
  {
   "cell_type": "code",
   "execution_count": null,
   "id": "ec3b79b3-78f1-40c3-8829-f7d16ee137d9",
   "metadata": {},
   "outputs": [],
   "source": [
    "#question 19"
   ]
  },
  {
   "cell_type": "code",
   "execution_count": 29,
   "id": "9eb62ef0-e935-46af-b44c-d1f0c39db197",
   "metadata": {},
   "outputs": [
    {
     "name": "stdout",
     "output_type": "stream",
     "text": [
      "Is the target 3 present in the matrix? True\n"
     ]
    }
   ],
   "source": [
    "def search_matrix(matrix, target):\n",
    "    if not matrix or not matrix[0]:\n",
    "        return False\n",
    "    \n",
    "    rows = len(matrix)\n",
    "    cols = len(matrix[0])\n",
    "    \n",
    "    row, col = 0, cols - 1  # Start at the top-right corner\n",
    "    \n",
    "    while row < rows and col >= 0:\n",
    "        if matrix[row][col] == target:\n",
    "            return True  # Target found\n",
    "        elif matrix[row][col] > target:\n",
    "            col -= 1  # Move left\n",
    "        else:\n",
    "            row += 1  # Move down\n",
    "    \n",
    "    return False  # Target not found\n",
    "\n",
    "# Example \n",
    "matrix = [[1, 3, 5, 7], [10, 11, 16, 20], [23, 30, 34, 60]]\n",
    "target = 3\n",
    "\n",
    "# Function call\n",
    "result = search_matrix(matrix, target)\n",
    "\n",
    "print(f\"Is the target {target} present in the matrix? {result}\")\n"
   ]
  },
  {
   "cell_type": "code",
   "execution_count": null,
   "id": "a3514dbb-8dae-479f-8e3b-d9ada14bbdcc",
   "metadata": {},
   "outputs": [],
   "source": [
    "#question 20"
   ]
  },
  {
   "cell_type": "code",
   "execution_count": 38,
   "id": "4a3f9ded-9c50-40ab-897d-29f2e2f36924",
   "metadata": {},
   "outputs": [
    {
     "name": "stdout",
     "output_type": "stream",
     "text": [
      "Median of the two sorted arrays is: 2\n"
     ]
    }
   ],
   "source": [
    "def findMedianSortedArrays(nums1, nums2):\n",
    "    # Ensure nums1 is the smaller array\n",
    "    if len(nums1) > len(nums2):\n",
    "        nums1, nums2 = nums2, nums1\n",
    "    \n",
    "    m, n = len(nums1), len(nums2)\n",
    "    low, high = 0, m\n",
    "    \n",
    "    while low <= high:\n",
    "        partition1 = (low + high) // 2\n",
    "        partition2 = (m + n + 1) // 2 - partition1\n",
    "        \n",
    "        maxLeft1 = float('-inf') if partition1 == 0 else nums1[partition1 - 1]\n",
    "        minRight1 = float('inf') if partition1 == m else nums1[partition1]\n",
    "        \n",
    "        maxLeft2 = float('-inf') if partition2 == 0 else nums2[partition2 - 1]\n",
    "        minRight2 = float('inf') if partition2 == n else nums2[partition2]\n",
    "        \n",
    "        if maxLeft1 <= minRight2 and maxLeft2 <= minRight1:\n",
    "            if (m + n) % 2 == 0:\n",
    "                return (max(maxLeft1, maxLeft2) + min(minRight1, minRight2)) / 2\n",
    "            else:\n",
    "                return max(maxLeft1, maxLeft2)\n",
    "        elif maxLeft1 > minRight2:\n",
    "            high = partition1 - 1\n",
    "        else:\n",
    "            low = partition1 + 1\n",
    "    \n",
    "    raise ValueError(\"Input arrays are not sorted or of incorrect sizes\")\n",
    "\n",
    "# Example \n",
    "nums1 = [1, 3]\n",
    "nums2 = [2]\n",
    "\n",
    "# Function call\n",
    "result = findMedianSortedArrays(nums1, nums2)\n",
    "\n",
    "print(f\"Median of the two sorted arrays is: {result}\")\n"
   ]
  },
  {
   "cell_type": "code",
   "execution_count": null,
   "id": "ac42372f-a342-4b70-a75d-02044e4af54b",
   "metadata": {},
   "outputs": [],
   "source": [
    "#question 21"
   ]
  },
  {
   "cell_type": "code",
   "execution_count": 39,
   "id": "1e88e52c-127d-4afe-9944-0965a2d43d9d",
   "metadata": {},
   "outputs": [
    {
     "name": "stdout",
     "output_type": "stream",
     "text": [
      "The smallest letter greater than a is: c\n"
     ]
    }
   ],
   "source": [
    "def nextGreatestLetter(letters, target):\n",
    "    low, high = 0, len(letters) - 1\n",
    "    \n",
    "    # Binary search for the smallest letter greater than target\n",
    "    while low <= high:\n",
    "        mid = (low + high) // 2\n",
    "        \n",
    "        if letters[mid] > target:\n",
    "            high = mid - 1\n",
    "        else:\n",
    "            low = mid + 1\n",
    "    \n",
    "    # If no such letter is found, return the first letter (wrap around)\n",
    "    return letters[low % len(letters)]\n",
    "\n",
    "# Example\n",
    "letters = ['c', 'f', 'j']\n",
    "target = 'a'\n",
    "\n",
    "# Function call\n",
    "result = nextGreatestLetter(letters, target)\n",
    "\n",
    "print(f\"The smallest letter greater than {target} is: {result}\")\n"
   ]
  },
  {
   "cell_type": "code",
   "execution_count": null,
   "id": "1ddf6d27-35a2-463a-a1b4-83ccab01054d",
   "metadata": {},
   "outputs": [],
   "source": [
    "#question 22"
   ]
  },
  {
   "cell_type": "code",
   "execution_count": 40,
   "id": "6689404a-3b5f-4752-b412-a355e2c50605",
   "metadata": {},
   "outputs": [
    {
     "name": "stdout",
     "output_type": "stream",
     "text": [
      "Sorted Array: [0, 0, 1, 1, 2, 2]\n"
     ]
    }
   ],
   "source": [
    "def sortColors(nums):\n",
    "    low, mid, high = 0, 0, len(nums) - 1\n",
    "    \n",
    "    while mid <= high:\n",
    "        if nums[mid] == 0:\n",
    "            # Swap nums[low] and nums[mid], then move both pointers\n",
    "            nums[low], nums[mid] = nums[mid], nums[low]\n",
    "            low += 1\n",
    "            mid += 1\n",
    "        elif nums[mid] == 1:\n",
    "            # Move mid pointer for 1\n",
    "            mid += 1\n",
    "        else:\n",
    "            # Swap nums[mid] and nums[high], then move high pointer\n",
    "            nums[mid], nums[high] = nums[high], nums[mid]\n",
    "            high -= 1\n",
    "    \n",
    "    return nums\n",
    "\n",
    "# Example \n",
    "nums = [2, 0, 2, 1, 1, 0]\n",
    "\n",
    "# Function call\n",
    "sorted_nums = sortColors(nums)\n",
    "\n",
    "print(f\"Sorted Array: {sorted_nums}\")\n"
   ]
  },
  {
   "cell_type": "code",
   "execution_count": null,
   "id": "a5a372d3-5e69-4f9b-9bfd-21c28dfa470f",
   "metadata": {},
   "outputs": [],
   "source": [
    "#question 23"
   ]
  },
  {
   "cell_type": "code",
   "execution_count": 41,
   "id": "3213ec14-1322-4c90-b217-26d48c9614a1",
   "metadata": {},
   "outputs": [
    {
     "name": "stdout",
     "output_type": "stream",
     "text": [
      "The 2th largest element is: 5\n"
     ]
    }
   ],
   "source": [
    "import heapq\n",
    "\n",
    "def findKthLargest(nums, k):\n",
    "    # Create a min-heap with the first k elements\n",
    "    min_heap = nums[:k]\n",
    "    heapq.heapify(min_heap)\n",
    "    \n",
    "    # Iterate through the rest of the array\n",
    "    for num in nums[k:]:\n",
    "        # If the current number is larger than the smallest element in the heap\n",
    "        if num > min_heap[0]:\n",
    "            heapq.heapreplace(min_heap, num)\n",
    "    \n",
    "    # The root of the heap is the kth largest element\n",
    "    return min_heap[0]\n",
    "\n",
    "# Example Input\n",
    "nums = [3, 2, 1, 5, 6, 4]\n",
    "k = 2\n",
    "\n",
    "# Function call\n",
    "kth_largest = findKthLargest(nums, k)\n",
    "\n",
    "print(f\"The {k}th largest element is: {kth_largest}\")\n"
   ]
  },
  {
   "cell_type": "code",
   "execution_count": null,
   "id": "ee3a83e6-0843-495d-8e63-e86afa8764c4",
   "metadata": {},
   "outputs": [],
   "source": [
    "#question 24"
   ]
  },
  {
   "cell_type": "code",
   "execution_count": 42,
   "id": "43f239ef-b41a-4f43-82fe-1d3d414dfb48",
   "metadata": {},
   "outputs": [
    {
     "name": "stdout",
     "output_type": "stream",
     "text": [
      "Reordered Array: [3, 5, 1, 6, 2, 4]\n"
     ]
    }
   ],
   "source": [
    "def wiggleSort(nums):\n",
    "    # Traverse the list\n",
    "    for i in range(len(nums) - 1):\n",
    "        \n",
    "        if i % 2 == 0:\n",
    "            if nums[i] > nums[i + 1]:\n",
    "                nums[i], nums[i + 1] = nums[i + 1], nums[i]\n",
    "    \n",
    "        else:\n",
    "            if nums[i] < nums[i + 1]:\n",
    "                nums[i], nums[i + 1] = nums[i + 1], nums[i]\n",
    "\n",
    "# Example\n",
    "nums = [3, 5, 2, 1, 6, 4]\n",
    "\n",
    "# Function call\n",
    "wiggleSort(nums)\n",
    "\n",
    "print(\"Reordered Array:\", nums)\n"
   ]
  },
  {
   "cell_type": "code",
   "execution_count": null,
   "id": "19545326-da27-4a02-ab13-d9941bf2645b",
   "metadata": {},
   "outputs": [],
   "source": [
    "#question 25"
   ]
  },
  {
   "cell_type": "code",
   "execution_count": 43,
   "id": "20c23e78-f2e6-4647-809b-d44acb7aa902",
   "metadata": {},
   "outputs": [
    {
     "name": "stdout",
     "output_type": "stream",
     "text": [
      "Sum of the array: 15\n"
     ]
    }
   ],
   "source": [
    "def sum_array(nums):\n",
    "    # Base case: \n",
    "    if not nums:\n",
    "        return 0\n",
    "    # Recursive case: \n",
    "    return nums[0] + sum_array(nums[1:])\n",
    "\n",
    "# Example \n",
    "nums = [1, 2, 3, 4, 5]\n",
    "\n",
    "# Function call\n",
    "result = sum_array(nums)\n",
    "\n",
    "print(\"Sum of the array:\", result)\n"
   ]
  },
  {
   "cell_type": "code",
   "execution_count": null,
   "id": "c9ee6dad-f5f8-4ae5-8301-c8ea06f921e2",
   "metadata": {},
   "outputs": [],
   "source": [
    "#question 26"
   ]
  },
  {
   "cell_type": "code",
   "execution_count": 45,
   "id": "2cd1406b-60bc-4e6b-aad3-8db137e3a231",
   "metadata": {},
   "outputs": [
    {
     "name": "stdout",
     "output_type": "stream",
     "text": [
      "Maximum element in the array: 9\n"
     ]
    }
   ],
   "source": [
    "def find_max(nums):\n",
    "    # Base case: \n",
    "    if len(nums) == 1:\n",
    "        return nums[0]\n",
    "    \n",
    "    # Recursive case: \n",
    "    rest_max = find_max(nums[1:])\n",
    "    \n",
    "    # Compare the first element with the max of the rest of the array\n",
    "    return max(nums[0], rest_max)\n",
    "\n",
    "# Example\n",
    "nums = [3, 7, 2, 9, 4, 1]\n",
    "\n",
    "# Function call\n",
    "result = find_max(nums)\n",
    "\n",
    "print(\"Maximum element in the array:\", result)\n"
   ]
  },
  {
   "cell_type": "code",
   "execution_count": null,
   "id": "b5917797-7e8e-4333-8187-69177bcf8ad3",
   "metadata": {},
   "outputs": [],
   "source": [
    "#question 27"
   ]
  },
  {
   "cell_type": "code",
   "execution_count": 46,
   "id": "5d4eecd9-ece4-40f5-833d-a9e79525d41b",
   "metadata": {},
   "outputs": [
    {
     "name": "stdout",
     "output_type": "stream",
     "text": [
      "Index of the target: 2\n"
     ]
    }
   ],
   "source": [
    "def linear_search(nums, target):\n",
    "    # Traverse the array\n",
    "    for i in range(len(nums)):\n",
    "        # If the target is found, return the index\n",
    "        if nums[i] == target:\n",
    "            return i\n",
    "    # If the target is not found, return -1\n",
    "    return -1\n",
    "\n",
    "# Example\n",
    "nums = [5, 3, 8, 2, 7, 4]\n",
    "target = 8\n",
    "\n",
    "# Function call\n",
    "result = linear_search(nums, target)\n",
    "\n",
    "print(\"Index of the target:\", result)\n"
   ]
  },
  {
   "cell_type": "code",
   "execution_count": null,
   "id": "7350ec40-b054-4305-a617-1456c0ba18fb",
   "metadata": {},
   "outputs": [],
   "source": [
    "#question 28"
   ]
  },
  {
   "cell_type": "code",
   "execution_count": 47,
   "id": "7d9e07de-f677-4dc0-9672-949a66b24829",
   "metadata": {},
   "outputs": [
    {
     "name": "stdout",
     "output_type": "stream",
     "text": [
      "Factorial of 5 is: 120\n"
     ]
    }
   ],
   "source": [
    "def factorial(n):\n",
    "    # Base case: \n",
    "    if n == 0 or n == 1:\n",
    "        return 1\n",
    "    \n",
    "    # Recursive case: \n",
    "    return n * factorial(n - 1)\n",
    "\n",
    "# Example \n",
    "n = 5\n",
    "\n",
    "# Function call\n",
    "result = factorial(n)\n",
    "\n",
    "print(f\"Factorial of {n} is: {result}\")\n"
   ]
  },
  {
   "cell_type": "code",
   "execution_count": null,
   "id": "8ac0698a-5f01-4cff-8276-0b203dc7a48b",
   "metadata": {},
   "outputs": [],
   "source": [
    "#question 29"
   ]
  },
  {
   "cell_type": "code",
   "execution_count": 48,
   "id": "3f125432-d25b-46cc-9a17-9866a25d51b4",
   "metadata": {},
   "outputs": [
    {
     "name": "stdout",
     "output_type": "stream",
     "text": [
      "Is 7 a prime number? True\n"
     ]
    }
   ],
   "source": [
    "def is_prime(n, divisor=None):\n",
    "    # Base case: \n",
    "    if n <= 1:\n",
    "        return False\n",
    "    \n",
    "    # If divisor is None, start with 2\n",
    "    if divisor is None:\n",
    "        divisor = 2\n",
    "    \n",
    "    # If divisor reaches sqrt(n), then n is prime\n",
    "    if divisor * divisor > n:\n",
    "        return True\n",
    "    \n",
    "    # If n is divisible by the divisor, it's not prime\n",
    "    if n % divisor == 0:\n",
    "        return False\n",
    "    \n",
    "    # Recursive call with the next divisor\n",
    "    return is_prime(n, divisor + 1)\n",
    "\n",
    "# Example\n",
    "n = 7\n",
    "\n",
    "# Function call\n",
    "result = is_prime(n)\n",
    "\n",
    "print(f\"Is {n} a prime number? {result}\")\n"
   ]
  },
  {
   "cell_type": "code",
   "execution_count": null,
   "id": "a793dd94-50cf-4daf-8e3d-b48fa3ebb0a3",
   "metadata": {},
   "outputs": [],
   "source": [
    "#question 30"
   ]
  },
  {
   "cell_type": "code",
   "execution_count": 49,
   "id": "f3577575-7f36-473f-b741-171252db995c",
   "metadata": {},
   "outputs": [
    {
     "name": "stdout",
     "output_type": "stream",
     "text": [
      "Fibonacci series up to 8: [0, 1, 1, 2, 3, 5, 8, 13, 21]\n"
     ]
    }
   ],
   "source": [
    "def fibonacci_series(n, series=None):\n",
    "    # Initialize the series in the first call\n",
    "    if series is None:\n",
    "        series = [0, 1]\n",
    "    \n",
    "    # Base case:\n",
    "    if len(series) > n:\n",
    "        return series[:n + 1]\n",
    "    \n",
    "    # Append the next Fibonacci number (sum of the last two)\n",
    "    next_fib = series[-1] + series[-2]\n",
    "    series.append(next_fib)\n",
    "    \n",
    "    # Recursive call to build the Fibonacci series\n",
    "    return fibonacci_series(n, series)\n",
    "\n",
    "# Example\n",
    "n = 8\n",
    "\n",
    "# Function call\n",
    "result = fibonacci_series(n)\n",
    "\n",
    "print(f\"Fibonacci series up to {n}: {result}\")\n"
   ]
  },
  {
   "cell_type": "code",
   "execution_count": null,
   "id": "71c62023-92dc-40e0-a055-18b61f3c9a1e",
   "metadata": {},
   "outputs": [],
   "source": [
    "#question 31"
   ]
  },
  {
   "cell_type": "code",
   "execution_count": 50,
   "id": "6b9ed194-e24a-4340-86d7-f34055555ef6",
   "metadata": {},
   "outputs": [
    {
     "name": "stdout",
     "output_type": "stream",
     "text": [
      "3^4 = 81\n"
     ]
    }
   ],
   "source": [
    "def power(base, exponent):\n",
    "    # Base case 1:\n",
    "    if exponent == 0:\n",
    "        return 1\n",
    "    \n",
    "    # Base case 2:\n",
    "    if exponent == 1:\n",
    "        return base\n",
    "    \n",
    "    # Recursive case:\n",
    "    return base * power(base, exponent - 1)\n",
    "\n",
    "# Example \n",
    "base = 3\n",
    "exponent = 4\n",
    "\n",
    "# Function call\n",
    "result = power(base, exponent)\n",
    "\n",
    "print(f\"{base}^{exponent} = {result}\")\n"
   ]
  },
  {
   "cell_type": "code",
   "execution_count": null,
   "id": "7cda13af-4815-464d-a7e6-29daab2101d5",
   "metadata": {},
   "outputs": [],
   "source": [
    "#question 32"
   ]
  },
  {
   "cell_type": "code",
   "execution_count": 51,
   "id": "1232c36a-8d75-4645-854a-9e02f56bd853",
   "metadata": {},
   "outputs": [
    {
     "name": "stdout",
     "output_type": "stream",
     "text": [
      "Reversed string: olleh\n"
     ]
    }
   ],
   "source": [
    "def reverse_string(s):\n",
    "    # Base case: \n",
    "    if len(s) == 0 or len(s) == 1:\n",
    "        return s\n",
    "    \n",
    "    # Recursive case:\n",
    "    return reverse_string(s[1:]) + s[0]\n",
    "\n",
    "# Example \n",
    "input_string = \"hello\"\n",
    "\n",
    "# Function call\n",
    "reversed_string = reverse_string(input_string)\n",
    "\n",
    "print(f\"Reversed string: {reversed_string}\")\n"
   ]
  },
  {
   "cell_type": "code",
   "execution_count": null,
   "id": "6ecc2aa5-f533-4d98-8d87-921ef5ccbd29",
   "metadata": {},
   "outputs": [],
   "source": []
  }
 ],
 "metadata": {
  "kernelspec": {
   "display_name": "Python 3 (ipykernel)",
   "language": "python",
   "name": "python3"
  },
  "language_info": {
   "codemirror_mode": {
    "name": "ipython",
    "version": 3
   },
   "file_extension": ".py",
   "mimetype": "text/x-python",
   "name": "python",
   "nbconvert_exporter": "python",
   "pygments_lexer": "ipython3",
   "version": "3.12.1"
  }
 },
 "nbformat": 4,
 "nbformat_minor": 5
}
